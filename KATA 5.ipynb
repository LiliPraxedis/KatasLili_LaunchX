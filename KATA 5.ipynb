{
 "cells": [
  {
   "cell_type": "code",
   "execution_count": 4,
   "metadata": {},
   "outputs": [
    {
     "name": "stdout",
     "output_type": "stream",
     "text": [
      "628949330\n",
      "390577534\n"
     ]
    }
   ],
   "source": [
    "#Ejercicio 1 Distancia entre planetas\n",
    "Earth = 149597870\n",
    "Jupiter = 778547200\n",
    "Distance_Km = Jupiter - Earth \n",
    "print(Distance_Km)\n",
    "\n",
    "Distance_mil = ((Distance_Km) *0.621)\n",
    "print(round (Distance_mil))"
   ]
  },
  {
   "cell_type": "code",
   "execution_count": 6,
   "metadata": {},
   "outputs": [],
   "source": [
    "#Ejercicio 2 Convierte cadenas en numeros usando valores absolutos\n",
    "Planet1 = input('Hola, agrega la distancia del primer planeta')\n",
    "Planet2 = input('Ahora agrega la distancia del segundo planeta')"
   ]
  },
  {
   "cell_type": "code",
   "execution_count": 7,
   "metadata": {},
   "outputs": [],
   "source": [
    "#Convirtiendo las cadenas en numero entero\n",
    "Planet1 = int(Planet1)\n",
    "Planet2 = int(Planet2)"
   ]
  },
  {
   "cell_type": "code",
   "execution_count": 12,
   "metadata": {},
   "outputs": [
    {
     "name": "stdout",
     "output_type": "stream",
     "text": [
      "-17\n",
      "10.557\n"
     ]
    }
   ],
   "source": [
    "#Calculo de distancia entre planetas\n",
    "DistanceKm = (Planet1 - Planet2)\n",
    "print (DistanceKm)\n",
    "\n",
    "DistanceMil = (DistanceKm * 0.621)\n",
    "print( abs (DistanceMil))"
   ]
  }
 ],
 "metadata": {
  "interpreter": {
   "hash": "3bdc90e14497424eb53d127b8b5368f8f205a7cf19b6bc97b63b85a5f0c16bc1"
  },
  "kernelspec": {
   "display_name": "Python 3.10.2 64-bit",
   "language": "python",
   "name": "python3"
  },
  "language_info": {
   "codemirror_mode": {
    "name": "ipython",
    "version": 3
   },
   "file_extension": ".py",
   "mimetype": "text/x-python",
   "name": "python",
   "nbconvert_exporter": "python",
   "pygments_lexer": "ipython3",
   "version": "3.10.2"
  },
  "orig_nbformat": 4
 },
 "nbformat": 4,
 "nbformat_minor": 2
}
