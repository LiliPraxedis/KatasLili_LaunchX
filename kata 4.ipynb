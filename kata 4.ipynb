{
 "cells": [
  {
   "cell_type": "code",
   "execution_count": 2,
   "metadata": {},
   "outputs": [
    {
     "data": {
      "text/plain": [
       "['Interesting facts about the Moon',\n",
       " \" The Moon is Earth's only satellite\",\n",
       " ' \\nThere are several interesting facts about the Moon and how it affects life here on Earth',\n",
       " ' \\nOn average, the Moon moves 4cm away from Earth every year',\n",
       " ' \\nThis yearly drift is not significant enough to cause immediate effects on Earth \\nthe highest daylight temperature of the Moon is 127 C',\n",
       " '']"
      ]
     },
     "execution_count": 2,
     "metadata": {},
     "output_type": "execute_result"
    }
   ],
   "source": [
    "#Ejercicio 1\n",
    "text = \"\"\"Interesting facts about the Moon. The Moon is Earth's only satellite. \n",
    "There are several interesting facts about the Moon and how it affects life here on Earth. \n",
    "On average, the Moon moves 4cm away from Earth every year. \n",
    "This yearly drift is not significant enough to cause immediate effects on Earth \n",
    "the highest daylight temperature of the Moon is 127 C.\"\"\"\n",
    "text_parts = text.split('.')\n",
    "text_parts"
   ]
  },
  {
   "cell_type": "code",
   "execution_count": 3,
   "metadata": {},
   "outputs": [
    {
     "name": "stdout",
     "output_type": "stream",
     "text": [
      " The Moon is Earth's only satellite\n",
      " \n",
      "There are several interesting facts about the Moon and how it affects life here on Earth\n",
      " \n",
      "This yearly drift is not significant enough to cause immediate effects on Earth \n",
      "the highest daylight temperature of the Moon is 127 C\n"
     ]
    }
   ],
   "source": [
    "#Definir palabras clave\n",
    "key_words = ['average', 'temperature', 'distance']\n",
    "for sentence in text_parts:\n",
    "    for key_words in key_words:\n",
    "        if key_words in sentence:\n",
    "            print(sentence)\n",
    "            break"
   ]
  },
  {
   "cell_type": "markdown",
   "metadata": {},
   "source": [
    "# Ejercicio 2 Formateando cadenas "
   ]
  },
  {
   "cell_type": "code",
   "execution_count": 8,
   "metadata": {},
   "outputs": [],
   "source": [
    "#Datos a trabajar\n",
    "name = \"Gamynedes\"\n",
    "gravity = 0.00143 #in Kms\n",
    "planet = \"Marte\""
   ]
  },
  {
   "cell_type": "code",
   "execution_count": 14,
   "metadata": {},
   "outputs": [],
   "source": [
    "#Creamos titulo\n",
    "title = f'Gravity Facts about {planet}'"
   ]
  },
  {
   "cell_type": "code",
   "execution_count": 15,
   "metadata": {},
   "outputs": [],
   "source": [
    "#Plantilla convirtiendo a metros\n",
    "facts = f\"\"\"{'-'*80} \n",
    "Planet name:{planet}\n",
    "Gravity on {name}:{gravity * 1000} m/s2\n",
    "\"\"\""
   ]
  },
  {
   "cell_type": "code",
   "execution_count": 23,
   "metadata": {},
   "outputs": [
    {
     "name": "stdout",
     "output_type": "stream",
     "text": [
      "Gravity Facts About Earth\n",
      "-------------------------------------------------------------------------------- \n",
      "Planet name:Earth\n",
      "Gravity on Moon:1.6199999999999999 m/s2\n",
      "\n",
      "\n"
     ]
    }
   ],
   "source": [
    "#Union de ambas cadenas\n",
    "template = f\"\"\"{title.title()}\n",
    "{facts}\n",
    "\"\"\"\n",
    "print(template)"
   ]
  },
  {
   "cell_type": "code",
   "execution_count": 25,
   "metadata": {},
   "outputs": [],
   "source": [
    "#Nuevos Datos a trabajar\n",
    "name = \"Gamynedes\"\n",
    "gravity = 0.00143 #in Kms\n",
    "planet = \"Marte\""
   ]
  },
  {
   "cell_type": "code",
   "execution_count": 28,
   "metadata": {},
   "outputs": [
    {
     "name": "stdout",
     "output_type": "stream",
     "text": [
      "-------------------------------------------------------------------------------- \n",
      "Planet name:Earth\n",
      "Gravity on Moon:1.6199999999999999 m/s2\n",
      "\n"
     ]
    }
   ],
   "source": [
    "print(facts)"
   ]
  },
  {
   "cell_type": "code",
   "execution_count": 33,
   "metadata": {},
   "outputs": [
    {
     "name": "stdout",
     "output_type": "stream",
     "text": [
      "\n",
      "Gravity Facts about Marte\n",
      "Planet name: Marte\n",
      "Gravity on Gamynedes:0.00143 m/s2\n",
      "\n"
     ]
    }
   ],
   "source": [
    "new_template = \"\"\"\n",
    "Gravity Facts about {planet}\n",
    "Planet name: {planet}\n",
    "Gravity on {name}:{gravity} m/s2\n",
    "\"\"\"\n",
    "print(new_template.format(name=name, planet=planet, gravity=gravity))"
   ]
  },
  {
   "cell_type": "code",
   "execution_count": 38,
   "metadata": {},
   "outputs": [
    {
     "name": "stdout",
     "output_type": "stream",
     "text": [
      "\n",
      "Gravity Facts about Marte\n",
      "Planet name: Marte\n",
      "Gravity on Gamynedes:1.4300000000000002 m/s2\n",
      "\n"
     ]
    }
   ],
   "source": [
    "print(new_template.format(name=name, planet=planet, gravity=gravity* 1000))"
   ]
  }
 ],
 "metadata": {
  "interpreter": {
   "hash": "3bdc90e14497424eb53d127b8b5368f8f205a7cf19b6bc97b63b85a5f0c16bc1"
  },
  "kernelspec": {
   "display_name": "Python 3.10.2 64-bit",
   "language": "python",
   "name": "python3"
  },
  "language_info": {
   "codemirror_mode": {
    "name": "ipython",
    "version": 3
   },
   "file_extension": ".py",
   "mimetype": "text/x-python",
   "name": "python",
   "nbconvert_exporter": "python",
   "pygments_lexer": "ipython3",
   "version": "3.10.2"
  },
  "orig_nbformat": 4
 },
 "nbformat": 4,
 "nbformat_minor": 2
}
