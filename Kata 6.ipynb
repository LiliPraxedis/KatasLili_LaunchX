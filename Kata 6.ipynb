{
 "cells": [
  {
   "cell_type": "code",
   "execution_count": 6,
   "metadata": {},
   "outputs": [
    {
     "name": "stdout",
     "output_type": "stream",
     "text": [
      "The planets in the system solar: ['Mercury', 'Venus', 'Earth', 'Mars', 'Jupiter', 'Saturn', 'Uranus', 'Neptune']\n",
      "Exist 8 planets in the system solar\n"
     ]
    }
   ],
   "source": [
    "#Creamos lista de planetas\n",
    "Planets = ['Mercury', 'Venus', 'Earth', 'Mars', 'Jupiter', 'Saturn', 'Uranus', 'Neptune']\n",
    "print('The planets in the system solar:', Planets)\n",
    "\n",
    "#muestra el número de planetas.\n",
    "number_of_planets = len(Planets)\n",
    "print('Exist', number_of_planets, 'planets in the system solar')"
   ]
  },
  {
   "cell_type": "code",
   "execution_count": 11,
   "metadata": {},
   "outputs": [
    {
     "name": "stdout",
     "output_type": "stream",
     "text": [
      "Exist 11 planets in the system solar\n",
      "The last planet is Pluto\n"
     ]
    }
   ],
   "source": [
    "#Agregamos pluton\n",
    "Planets.append('Pluto')\n",
    "number_of_planets = len(Planets)\n",
    "print('Exist', number_of_planets, 'planets in the system solar')\n",
    "\n",
    "#Ultimo planeta de la lista\n",
    "print('The last planet is', Planets[-1])"
   ]
  },
  {
   "cell_type": "markdown",
   "metadata": {},
   "source": [
    "# Ejercicio 2"
   ]
  },
  {
   "cell_type": "code",
   "execution_count": 18,
   "metadata": {},
   "outputs": [
    {
     "name": "stdout",
     "output_type": "stream",
     "text": [
      "Is the 3 planet from de sun\n",
      "Here are the planets closer than Earth\n",
      "['Mercury', 'Venus']\n",
      "Here are the planets further than Earth\n",
      "['Mars', 'Jupiter', 'Saturn', 'Neptune']\n"
     ]
    }
   ],
   "source": [
    "# Lista de planetas\n",
    "planets = ['Mercury', 'Venus', 'Earth', 'Mars', 'Jupiter', 'Saturn', 'Neptune']\n",
    "Planet_name = input('Hola, ingresa el nombre de un planeta (Usa la primera letra Mayuscula)')\n",
    "#Busca el planeta en la lista\n",
    "planets_index = planets.index(Planet_name)\n",
    "print('Is the', planets_index + 1, 'planet from de sun')\n",
    "\n",
    "#Planetas más cercanos al sol\n",
    "print('Here are the planets closer than ' + Planet_name)\n",
    "print(planets[0:planets_index])\n",
    "\n",
    "#Planetas más alejados del sol\n",
    "print('Here are the planets further than ' + Planet_name)\n",
    "print(planets[planets_index + 1:])"
   ]
  }
 ],
 "metadata": {
  "interpreter": {
   "hash": "3bdc90e14497424eb53d127b8b5368f8f205a7cf19b6bc97b63b85a5f0c16bc1"
  },
  "kernelspec": {
   "display_name": "Python 3.10.2 64-bit",
   "language": "python",
   "name": "python3"
  },
  "language_info": {
   "codemirror_mode": {
    "name": "ipython",
    "version": 3
   },
   "file_extension": ".py",
   "mimetype": "text/x-python",
   "name": "python",
   "nbconvert_exporter": "python",
   "pygments_lexer": "ipython3",
   "version": "3.10.2"
  },
  "orig_nbformat": 4
 },
 "nbformat": 4,
 "nbformat_minor": 2
}
