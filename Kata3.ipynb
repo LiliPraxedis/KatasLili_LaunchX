{
 "cells": [
  {
   "cell_type": "markdown",
   "metadata": {},
   "source": [
    "# Advertencia de asteroide\n",
    "Se imprime una advertencia si un asteroide se acerca a la Tierra demasiado rápido. Cualquier velocidad superior a 25km por s merece una advertencia\n",
    "    Un asteroide se acerca y viaja a 49 km/s"
   ]
  },
  {
   "cell_type": "code",
   "execution_count": 2,
   "metadata": {},
   "outputs": [
    {
     "name": "stdout",
     "output_type": "stream",
     "text": [
      "Advertencia se acerca un asteroide a mas de 25 km/s\n"
     ]
    }
   ],
   "source": [
    "Advertencia_asteroide = 49\n",
    "if Advertencia_asteroide > 25:\n",
    "    print(\"Advertencia se acerca un asteroide a mas de 25 km/s\")\n",
    "else:\n",
    "    print(\"Feliz dia\") "
   ]
  },
  {
   "cell_type": "code",
   "execution_count": 5,
   "metadata": {},
   "outputs": [
    {
     "name": "stdout",
     "output_type": "stream",
     "text": [
      "Look Up! Hay una luz magica en el cielo\n"
     ]
    }
   ],
   "source": [
    "Asteroide2 = 49\n",
    "if Asteroide2 > 20:\n",
    "    print(\"Look Up! Hay una luz magica en el cielo\")\n",
    "elif Asteroide2 == 20:\n",
    "    print(\"Look Up! mira un cometa\")\n",
    "else:\n",
    "    print(\"Don't Look up\")"
   ]
  },
  {
   "cell_type": "code",
   "execution_count": 9,
   "metadata": {},
   "outputs": [
    {
     "name": "stdout",
     "output_type": "stream",
     "text": [
      "Look Up! se acerca un cometa\n"
     ]
    }
   ],
   "source": [
    "Velocidad_asteroide = 25\n",
    "Tamaño = 100\n",
    "if Velocidad_asteroide > 25 and Tamaño > 25:\n",
    "    print(\"Peligro se acerca un asteroide demasiado rapido a la Tierra\")\n",
    "elif Velocidad_asteroide >= 20:\n",
    "    print(\"Look Up! se acerca un cometa\")\n",
    "elif Tamaño < 25:\n",
    "    print(\"Todo bien\")\n",
    "else:\n",
    "    print(\"Todo bien :)\")\n"
   ]
  }
 ],
 "metadata": {
  "interpreter": {
   "hash": "3bdc90e14497424eb53d127b8b5368f8f205a7cf19b6bc97b63b85a5f0c16bc1"
  },
  "kernelspec": {
   "display_name": "Python 3.10.2 64-bit",
   "language": "python",
   "name": "python3"
  },
  "language_info": {
   "codemirror_mode": {
    "name": "ipython",
    "version": 3
   },
   "file_extension": ".py",
   "mimetype": "text/x-python",
   "name": "python",
   "nbconvert_exporter": "python",
   "pygments_lexer": "ipython3",
   "version": "3.10.2"
  },
  "orig_nbformat": 4
 },
 "nbformat": 4,
 "nbformat_minor": 2
}
